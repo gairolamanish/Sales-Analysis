{
 "cells": [
  {
   "cell_type": "markdown",
   "id": "d4dd0f13-7924-47a0-8845-e1428b23d298",
   "metadata": {},
   "source": [
    "# Project 1 [Data science with Python] - Sales Analysis."
   ]
  },
  {
   "cell_type": "markdown",
   "id": "e0e08dd9-4410-4488-b9e4-69fa6ed2bd32",
   "metadata": {},
   "source": [
    "# Objective - Perform different operations on the given data to extract useful information."
   ]
  },
  {
   "cell_type": "markdown",
   "id": "f98e2416-4c8f-452d-98ba-49b247b5c24c",
   "metadata": {},
   "source": [
    "# Step 1 - Data Wrangling"
   ]
  },
  {
   "cell_type": "code",
   "execution_count": null,
   "id": "165a2d12-e658-4e17-b5e3-3a417e413e78",
   "metadata": {},
   "outputs": [],
   "source": [
    "import numpy as np\n",
    "import pandas as pd"
   ]
  },
  {
   "cell_type": "code",
   "execution_count": null,
   "id": "953fbd6b-7505-4a1c-9c2e-62cf6f36dadf",
   "metadata": {},
   "outputs": [],
   "source": [
    "Sales_data = pd.read_csv(\"AusApparalSales4thQrt2020.csv\")"
   ]
  },
  {
   "cell_type": "markdown",
   "id": "45764696-4bdc-49a4-88e9-0b10c6c72186",
   "metadata": {},
   "source": [
    "# > Missing value Treatment"
   ]
  },
  {
   "cell_type": "code",
   "execution_count": 44,
   "id": "75840556-1c9b-4af3-bf88-bebce3be07ae",
   "metadata": {},
   "outputs": [
    {
     "data": {
      "text/plain": [
       "Date     0\n",
       "Time     0\n",
       "State    0\n",
       "Group    0\n",
       "Unit     0\n",
       "Sales    0\n",
       "dtype: int64"
      ]
     },
     "execution_count": 44,
     "metadata": {},
     "output_type": "execute_result"
    }
   ],
   "source": [
    "# checkingfor missing values in data\n",
    "\n",
    "Sales_data.isnull().sum()"
   ]
  },
  {
   "cell_type": "markdown",
   "id": "a5ca4367-0920-4d63-abfb-729983d5f297",
   "metadata": {},
   "source": [
    "# Note - There is no missing value in the given data-set"
   ]
  },
  {
   "cell_type": "markdown",
   "id": "a0988a6b-f34d-421b-b32f-7110300a9bdb",
   "metadata": {},
   "source": [
    "# > checking duplicate value"
   ]
  },
  {
   "cell_type": "code",
   "execution_count": 46,
   "id": "09c115b5-7e72-4bd5-bda6-ce51a5edb81d",
   "metadata": {},
   "outputs": [
    {
     "data": {
      "text/html": [
       "<div>\n",
       "<style scoped>\n",
       "    .dataframe tbody tr th:only-of-type {\n",
       "        vertical-align: middle;\n",
       "    }\n",
       "\n",
       "    .dataframe tbody tr th {\n",
       "        vertical-align: top;\n",
       "    }\n",
       "\n",
       "    .dataframe thead th {\n",
       "        text-align: right;\n",
       "    }\n",
       "</style>\n",
       "<table border=\"1\" class=\"dataframe\">\n",
       "  <thead>\n",
       "    <tr style=\"text-align: right;\">\n",
       "      <th></th>\n",
       "      <th>Date</th>\n",
       "      <th>Time</th>\n",
       "      <th>State</th>\n",
       "      <th>Group</th>\n",
       "      <th>Unit</th>\n",
       "      <th>Sales</th>\n",
       "    </tr>\n",
       "  </thead>\n",
       "  <tbody>\n",
       "  </tbody>\n",
       "</table>\n",
       "</div>"
      ],
      "text/plain": [
       "Empty DataFrame\n",
       "Columns: [Date, Time, State, Group, Unit, Sales]\n",
       "Index: []"
      ]
     },
     "execution_count": 46,
     "metadata": {},
     "output_type": "execute_result"
    }
   ],
   "source": [
    "Sales_data[Sales_data.duplicated()]"
   ]
  },
  {
   "cell_type": "code",
   "execution_count": 45,
   "id": "beb1357e-2c0e-4a40-bcd1-0c9fd7a0996b",
   "metadata": {},
   "outputs": [
    {
     "data": {
      "text/plain": [
       "0"
      ]
     },
     "execution_count": 45,
     "metadata": {},
     "output_type": "execute_result"
    }
   ],
   "source": [
    "Sales_data.duplicated().sum()"
   ]
  },
  {
   "cell_type": "markdown",
   "id": "ebe3ccf6-5533-4eb0-93ae-4df7f83b7155",
   "metadata": {},
   "source": [
    "# Note - There is no duplicate value in the given data-set"
   ]
  },
  {
   "cell_type": "markdown",
   "id": "899c6198-db5c-45bc-9a8e-a5b07235e67c",
   "metadata": {},
   "source": [
    "# > Data Binning"
   ]
  },
  {
   "cell_type": "code",
   "execution_count": null,
   "id": "caea8f23-0bbd-45b0-ad74-c5386144e3c9",
   "metadata": {},
   "outputs": [],
   "source": [
    "# Here we categorize the numerical data into intervals"
   ]
  },
  {
   "cell_type": "code",
   "execution_count": null,
   "id": "f614ce89-10e1-4d05-9775-704f1939bf97",
   "metadata": {},
   "outputs": [],
   "source": [
    "# statistical information\n",
    "\n",
    "Sales_data.describe()"
   ]
  },
  {
   "cell_type": "code",
   "execution_count": null,
   "id": "8e5e5424-caeb-4e27-bcf8-c934dbf273c4",
   "metadata": {},
   "outputs": [],
   "source": [
    "# Here we are going to perform Data bining on Sales columns\n",
    "# here the minimum value is 5000 while the maximum value is 162500\n",
    "# We are going to categorise all values with the help of binedges and binlabels"
   ]
  },
  {
   "cell_type": "code",
   "execution_count": 47,
   "id": "c2487efb-dae0-4ba4-b205-1518b341fe64",
   "metadata": {},
   "outputs": [],
   "source": [
    "binedges = [0, 50000, 100000, 150000, np.inf]\n",
    "bin_labels = ['0-50k', '50001-100k', '100001-150k', '150k+']\n",
    "Sales_data['Sales_range']  = pd.cut(Sales_data['Sales'], bins = binedges, right =False, labels = bin_labels)"
   ]
  },
  {
   "cell_type": "code",
   "execution_count": 48,
   "id": "e53e4ef8-8739-4756-8eb4-9d7247eff0f2",
   "metadata": {},
   "outputs": [
    {
     "data": {
      "text/html": [
       "<div>\n",
       "<style scoped>\n",
       "    .dataframe tbody tr th:only-of-type {\n",
       "        vertical-align: middle;\n",
       "    }\n",
       "\n",
       "    .dataframe tbody tr th {\n",
       "        vertical-align: top;\n",
       "    }\n",
       "\n",
       "    .dataframe thead th {\n",
       "        text-align: right;\n",
       "    }\n",
       "</style>\n",
       "<table border=\"1\" class=\"dataframe\">\n",
       "  <thead>\n",
       "    <tr style=\"text-align: right;\">\n",
       "      <th></th>\n",
       "      <th>Sales</th>\n",
       "      <th>Sales_range</th>\n",
       "    </tr>\n",
       "  </thead>\n",
       "  <tbody>\n",
       "    <tr>\n",
       "      <th>0</th>\n",
       "      <td>20000</td>\n",
       "      <td>0-50k</td>\n",
       "    </tr>\n",
       "    <tr>\n",
       "      <th>1</th>\n",
       "      <td>20000</td>\n",
       "      <td>0-50k</td>\n",
       "    </tr>\n",
       "    <tr>\n",
       "      <th>2</th>\n",
       "      <td>10000</td>\n",
       "      <td>0-50k</td>\n",
       "    </tr>\n",
       "    <tr>\n",
       "      <th>3</th>\n",
       "      <td>37500</td>\n",
       "      <td>0-50k</td>\n",
       "    </tr>\n",
       "    <tr>\n",
       "      <th>4</th>\n",
       "      <td>7500</td>\n",
       "      <td>0-50k</td>\n",
       "    </tr>\n",
       "    <tr>\n",
       "      <th>...</th>\n",
       "      <td>...</td>\n",
       "      <td>...</td>\n",
       "    </tr>\n",
       "    <tr>\n",
       "      <th>7555</th>\n",
       "      <td>35000</td>\n",
       "      <td>0-50k</td>\n",
       "    </tr>\n",
       "    <tr>\n",
       "      <th>7556</th>\n",
       "      <td>37500</td>\n",
       "      <td>0-50k</td>\n",
       "    </tr>\n",
       "    <tr>\n",
       "      <th>7557</th>\n",
       "      <td>37500</td>\n",
       "      <td>0-50k</td>\n",
       "    </tr>\n",
       "    <tr>\n",
       "      <th>7558</th>\n",
       "      <td>27500</td>\n",
       "      <td>0-50k</td>\n",
       "    </tr>\n",
       "    <tr>\n",
       "      <th>7559</th>\n",
       "      <td>32500</td>\n",
       "      <td>0-50k</td>\n",
       "    </tr>\n",
       "  </tbody>\n",
       "</table>\n",
       "<p>7560 rows × 2 columns</p>\n",
       "</div>"
      ],
      "text/plain": [
       "      Sales Sales_range\n",
       "0     20000       0-50k\n",
       "1     20000       0-50k\n",
       "2     10000       0-50k\n",
       "3     37500       0-50k\n",
       "4      7500       0-50k\n",
       "...     ...         ...\n",
       "7555  35000       0-50k\n",
       "7556  37500       0-50k\n",
       "7557  37500       0-50k\n",
       "7558  27500       0-50k\n",
       "7559  32500       0-50k\n",
       "\n",
       "[7560 rows x 2 columns]"
      ]
     },
     "execution_count": 48,
     "metadata": {},
     "output_type": "execute_result"
    }
   ],
   "source": [
    "Sales_data[['Sales', 'Sales_range']]"
   ]
  },
  {
   "cell_type": "code",
   "execution_count": 49,
   "id": "9606dfd7-ff1f-43e9-9556-e1bd11b17bab",
   "metadata": {},
   "outputs": [
    {
     "data": {
      "text/html": [
       "<div>\n",
       "<style scoped>\n",
       "    .dataframe tbody tr th:only-of-type {\n",
       "        vertical-align: middle;\n",
       "    }\n",
       "\n",
       "    .dataframe tbody tr th {\n",
       "        vertical-align: top;\n",
       "    }\n",
       "\n",
       "    .dataframe thead th {\n",
       "        text-align: right;\n",
       "    }\n",
       "</style>\n",
       "<table border=\"1\" class=\"dataframe\">\n",
       "  <thead>\n",
       "    <tr style=\"text-align: right;\">\n",
       "      <th></th>\n",
       "      <th>Date</th>\n",
       "      <th>Time</th>\n",
       "      <th>State</th>\n",
       "      <th>Group</th>\n",
       "      <th>Unit</th>\n",
       "      <th>Sales</th>\n",
       "      <th>Sales_range</th>\n",
       "    </tr>\n",
       "  </thead>\n",
       "  <tbody>\n",
       "    <tr>\n",
       "      <th>0</th>\n",
       "      <td>1-Oct-20</td>\n",
       "      <td>Morning</td>\n",
       "      <td>WA</td>\n",
       "      <td>Kids</td>\n",
       "      <td>8</td>\n",
       "      <td>20000</td>\n",
       "      <td>0-50k</td>\n",
       "    </tr>\n",
       "    <tr>\n",
       "      <th>1</th>\n",
       "      <td>1-Oct-20</td>\n",
       "      <td>Morning</td>\n",
       "      <td>WA</td>\n",
       "      <td>Men</td>\n",
       "      <td>8</td>\n",
       "      <td>20000</td>\n",
       "      <td>0-50k</td>\n",
       "    </tr>\n",
       "    <tr>\n",
       "      <th>2</th>\n",
       "      <td>1-Oct-20</td>\n",
       "      <td>Morning</td>\n",
       "      <td>WA</td>\n",
       "      <td>Women</td>\n",
       "      <td>4</td>\n",
       "      <td>10000</td>\n",
       "      <td>0-50k</td>\n",
       "    </tr>\n",
       "    <tr>\n",
       "      <th>3</th>\n",
       "      <td>1-Oct-20</td>\n",
       "      <td>Morning</td>\n",
       "      <td>WA</td>\n",
       "      <td>Seniors</td>\n",
       "      <td>15</td>\n",
       "      <td>37500</td>\n",
       "      <td>0-50k</td>\n",
       "    </tr>\n",
       "    <tr>\n",
       "      <th>4</th>\n",
       "      <td>1-Oct-20</td>\n",
       "      <td>Afternoon</td>\n",
       "      <td>WA</td>\n",
       "      <td>Kids</td>\n",
       "      <td>3</td>\n",
       "      <td>7500</td>\n",
       "      <td>0-50k</td>\n",
       "    </tr>\n",
       "    <tr>\n",
       "      <th>5</th>\n",
       "      <td>1-Oct-20</td>\n",
       "      <td>Afternoon</td>\n",
       "      <td>WA</td>\n",
       "      <td>Men</td>\n",
       "      <td>10</td>\n",
       "      <td>25000</td>\n",
       "      <td>0-50k</td>\n",
       "    </tr>\n",
       "    <tr>\n",
       "      <th>6</th>\n",
       "      <td>1-Oct-20</td>\n",
       "      <td>Afternoon</td>\n",
       "      <td>WA</td>\n",
       "      <td>Women</td>\n",
       "      <td>3</td>\n",
       "      <td>7500</td>\n",
       "      <td>0-50k</td>\n",
       "    </tr>\n",
       "    <tr>\n",
       "      <th>7</th>\n",
       "      <td>1-Oct-20</td>\n",
       "      <td>Afternoon</td>\n",
       "      <td>WA</td>\n",
       "      <td>Seniors</td>\n",
       "      <td>11</td>\n",
       "      <td>27500</td>\n",
       "      <td>0-50k</td>\n",
       "    </tr>\n",
       "    <tr>\n",
       "      <th>8</th>\n",
       "      <td>1-Oct-20</td>\n",
       "      <td>Evening</td>\n",
       "      <td>WA</td>\n",
       "      <td>Kids</td>\n",
       "      <td>15</td>\n",
       "      <td>37500</td>\n",
       "      <td>0-50k</td>\n",
       "    </tr>\n",
       "    <tr>\n",
       "      <th>9</th>\n",
       "      <td>1-Oct-20</td>\n",
       "      <td>Evening</td>\n",
       "      <td>WA</td>\n",
       "      <td>Men</td>\n",
       "      <td>15</td>\n",
       "      <td>37500</td>\n",
       "      <td>0-50k</td>\n",
       "    </tr>\n",
       "    <tr>\n",
       "      <th>10</th>\n",
       "      <td>1-Oct-20</td>\n",
       "      <td>Evening</td>\n",
       "      <td>WA</td>\n",
       "      <td>Women</td>\n",
       "      <td>3</td>\n",
       "      <td>7500</td>\n",
       "      <td>0-50k</td>\n",
       "    </tr>\n",
       "    <tr>\n",
       "      <th>11</th>\n",
       "      <td>1-Oct-20</td>\n",
       "      <td>Evening</td>\n",
       "      <td>WA</td>\n",
       "      <td>Seniors</td>\n",
       "      <td>10</td>\n",
       "      <td>25000</td>\n",
       "      <td>0-50k</td>\n",
       "    </tr>\n",
       "    <tr>\n",
       "      <th>12</th>\n",
       "      <td>1-Oct-20</td>\n",
       "      <td>Morning</td>\n",
       "      <td>NT</td>\n",
       "      <td>Kids</td>\n",
       "      <td>13</td>\n",
       "      <td>32500</td>\n",
       "      <td>0-50k</td>\n",
       "    </tr>\n",
       "    <tr>\n",
       "      <th>13</th>\n",
       "      <td>1-Oct-20</td>\n",
       "      <td>Morning</td>\n",
       "      <td>NT</td>\n",
       "      <td>Men</td>\n",
       "      <td>5</td>\n",
       "      <td>12500</td>\n",
       "      <td>0-50k</td>\n",
       "    </tr>\n",
       "    <tr>\n",
       "      <th>14</th>\n",
       "      <td>1-Oct-20</td>\n",
       "      <td>Morning</td>\n",
       "      <td>NT</td>\n",
       "      <td>Women</td>\n",
       "      <td>4</td>\n",
       "      <td>10000</td>\n",
       "      <td>0-50k</td>\n",
       "    </tr>\n",
       "    <tr>\n",
       "      <th>15</th>\n",
       "      <td>1-Oct-20</td>\n",
       "      <td>Morning</td>\n",
       "      <td>NT</td>\n",
       "      <td>Seniors</td>\n",
       "      <td>10</td>\n",
       "      <td>25000</td>\n",
       "      <td>0-50k</td>\n",
       "    </tr>\n",
       "    <tr>\n",
       "      <th>16</th>\n",
       "      <td>1-Oct-20</td>\n",
       "      <td>Afternoon</td>\n",
       "      <td>NT</td>\n",
       "      <td>Kids</td>\n",
       "      <td>13</td>\n",
       "      <td>32500</td>\n",
       "      <td>0-50k</td>\n",
       "    </tr>\n",
       "    <tr>\n",
       "      <th>17</th>\n",
       "      <td>1-Oct-20</td>\n",
       "      <td>Afternoon</td>\n",
       "      <td>NT</td>\n",
       "      <td>Men</td>\n",
       "      <td>4</td>\n",
       "      <td>10000</td>\n",
       "      <td>0-50k</td>\n",
       "    </tr>\n",
       "    <tr>\n",
       "      <th>18</th>\n",
       "      <td>1-Oct-20</td>\n",
       "      <td>Afternoon</td>\n",
       "      <td>NT</td>\n",
       "      <td>Women</td>\n",
       "      <td>6</td>\n",
       "      <td>15000</td>\n",
       "      <td>0-50k</td>\n",
       "    </tr>\n",
       "    <tr>\n",
       "      <th>19</th>\n",
       "      <td>1-Oct-20</td>\n",
       "      <td>Afternoon</td>\n",
       "      <td>NT</td>\n",
       "      <td>Seniors</td>\n",
       "      <td>5</td>\n",
       "      <td>12500</td>\n",
       "      <td>0-50k</td>\n",
       "    </tr>\n",
       "    <tr>\n",
       "      <th>20</th>\n",
       "      <td>1-Oct-20</td>\n",
       "      <td>Evening</td>\n",
       "      <td>NT</td>\n",
       "      <td>Kids</td>\n",
       "      <td>13</td>\n",
       "      <td>32500</td>\n",
       "      <td>0-50k</td>\n",
       "    </tr>\n",
       "    <tr>\n",
       "      <th>21</th>\n",
       "      <td>1-Oct-20</td>\n",
       "      <td>Evening</td>\n",
       "      <td>NT</td>\n",
       "      <td>Men</td>\n",
       "      <td>8</td>\n",
       "      <td>20000</td>\n",
       "      <td>0-50k</td>\n",
       "    </tr>\n",
       "    <tr>\n",
       "      <th>22</th>\n",
       "      <td>1-Oct-20</td>\n",
       "      <td>Evening</td>\n",
       "      <td>NT</td>\n",
       "      <td>Women</td>\n",
       "      <td>9</td>\n",
       "      <td>22500</td>\n",
       "      <td>0-50k</td>\n",
       "    </tr>\n",
       "    <tr>\n",
       "      <th>23</th>\n",
       "      <td>1-Oct-20</td>\n",
       "      <td>Evening</td>\n",
       "      <td>NT</td>\n",
       "      <td>Seniors</td>\n",
       "      <td>14</td>\n",
       "      <td>35000</td>\n",
       "      <td>0-50k</td>\n",
       "    </tr>\n",
       "    <tr>\n",
       "      <th>24</th>\n",
       "      <td>1-Oct-20</td>\n",
       "      <td>Morning</td>\n",
       "      <td>SA</td>\n",
       "      <td>Kids</td>\n",
       "      <td>12</td>\n",
       "      <td>30000</td>\n",
       "      <td>0-50k</td>\n",
       "    </tr>\n",
       "    <tr>\n",
       "      <th>25</th>\n",
       "      <td>1-Oct-20</td>\n",
       "      <td>Morning</td>\n",
       "      <td>SA</td>\n",
       "      <td>Men</td>\n",
       "      <td>12</td>\n",
       "      <td>30000</td>\n",
       "      <td>0-50k</td>\n",
       "    </tr>\n",
       "    <tr>\n",
       "      <th>26</th>\n",
       "      <td>1-Oct-20</td>\n",
       "      <td>Morning</td>\n",
       "      <td>SA</td>\n",
       "      <td>Women</td>\n",
       "      <td>16</td>\n",
       "      <td>40000</td>\n",
       "      <td>0-50k</td>\n",
       "    </tr>\n",
       "    <tr>\n",
       "      <th>27</th>\n",
       "      <td>1-Oct-20</td>\n",
       "      <td>Morning</td>\n",
       "      <td>SA</td>\n",
       "      <td>Seniors</td>\n",
       "      <td>28</td>\n",
       "      <td>70000</td>\n",
       "      <td>50001-100k</td>\n",
       "    </tr>\n",
       "    <tr>\n",
       "      <th>28</th>\n",
       "      <td>1-Oct-20</td>\n",
       "      <td>Afternoon</td>\n",
       "      <td>SA</td>\n",
       "      <td>Kids</td>\n",
       "      <td>16</td>\n",
       "      <td>40000</td>\n",
       "      <td>0-50k</td>\n",
       "    </tr>\n",
       "    <tr>\n",
       "      <th>29</th>\n",
       "      <td>1-Oct-20</td>\n",
       "      <td>Afternoon</td>\n",
       "      <td>SA</td>\n",
       "      <td>Men</td>\n",
       "      <td>28</td>\n",
       "      <td>70000</td>\n",
       "      <td>50001-100k</td>\n",
       "    </tr>\n",
       "    <tr>\n",
       "      <th>30</th>\n",
       "      <td>1-Oct-20</td>\n",
       "      <td>Afternoon</td>\n",
       "      <td>SA</td>\n",
       "      <td>Women</td>\n",
       "      <td>21</td>\n",
       "      <td>52500</td>\n",
       "      <td>50001-100k</td>\n",
       "    </tr>\n",
       "    <tr>\n",
       "      <th>31</th>\n",
       "      <td>1-Oct-20</td>\n",
       "      <td>Afternoon</td>\n",
       "      <td>SA</td>\n",
       "      <td>Seniors</td>\n",
       "      <td>29</td>\n",
       "      <td>72500</td>\n",
       "      <td>50001-100k</td>\n",
       "    </tr>\n",
       "    <tr>\n",
       "      <th>32</th>\n",
       "      <td>1-Oct-20</td>\n",
       "      <td>Evening</td>\n",
       "      <td>SA</td>\n",
       "      <td>Kids</td>\n",
       "      <td>15</td>\n",
       "      <td>37500</td>\n",
       "      <td>0-50k</td>\n",
       "    </tr>\n",
       "    <tr>\n",
       "      <th>33</th>\n",
       "      <td>1-Oct-20</td>\n",
       "      <td>Evening</td>\n",
       "      <td>SA</td>\n",
       "      <td>Men</td>\n",
       "      <td>22</td>\n",
       "      <td>55000</td>\n",
       "      <td>50001-100k</td>\n",
       "    </tr>\n",
       "    <tr>\n",
       "      <th>34</th>\n",
       "      <td>1-Oct-20</td>\n",
       "      <td>Evening</td>\n",
       "      <td>SA</td>\n",
       "      <td>Women</td>\n",
       "      <td>32</td>\n",
       "      <td>80000</td>\n",
       "      <td>50001-100k</td>\n",
       "    </tr>\n",
       "    <tr>\n",
       "      <th>35</th>\n",
       "      <td>1-Oct-20</td>\n",
       "      <td>Evening</td>\n",
       "      <td>SA</td>\n",
       "      <td>Seniors</td>\n",
       "      <td>21</td>\n",
       "      <td>52500</td>\n",
       "      <td>50001-100k</td>\n",
       "    </tr>\n",
       "    <tr>\n",
       "      <th>36</th>\n",
       "      <td>1-Oct-20</td>\n",
       "      <td>Morning</td>\n",
       "      <td>VIC</td>\n",
       "      <td>Kids</td>\n",
       "      <td>49</td>\n",
       "      <td>122500</td>\n",
       "      <td>100001-150k</td>\n",
       "    </tr>\n",
       "    <tr>\n",
       "      <th>37</th>\n",
       "      <td>1-Oct-20</td>\n",
       "      <td>Morning</td>\n",
       "      <td>VIC</td>\n",
       "      <td>Men</td>\n",
       "      <td>36</td>\n",
       "      <td>90000</td>\n",
       "      <td>50001-100k</td>\n",
       "    </tr>\n",
       "    <tr>\n",
       "      <th>38</th>\n",
       "      <td>1-Oct-20</td>\n",
       "      <td>Morning</td>\n",
       "      <td>VIC</td>\n",
       "      <td>Women</td>\n",
       "      <td>34</td>\n",
       "      <td>85000</td>\n",
       "      <td>50001-100k</td>\n",
       "    </tr>\n",
       "    <tr>\n",
       "      <th>39</th>\n",
       "      <td>1-Oct-20</td>\n",
       "      <td>Morning</td>\n",
       "      <td>VIC</td>\n",
       "      <td>Seniors</td>\n",
       "      <td>26</td>\n",
       "      <td>65000</td>\n",
       "      <td>50001-100k</td>\n",
       "    </tr>\n",
       "    <tr>\n",
       "      <th>40</th>\n",
       "      <td>1-Oct-20</td>\n",
       "      <td>Afternoon</td>\n",
       "      <td>VIC</td>\n",
       "      <td>Kids</td>\n",
       "      <td>31</td>\n",
       "      <td>77500</td>\n",
       "      <td>50001-100k</td>\n",
       "    </tr>\n",
       "    <tr>\n",
       "      <th>41</th>\n",
       "      <td>1-Oct-20</td>\n",
       "      <td>Afternoon</td>\n",
       "      <td>VIC</td>\n",
       "      <td>Men</td>\n",
       "      <td>26</td>\n",
       "      <td>65000</td>\n",
       "      <td>50001-100k</td>\n",
       "    </tr>\n",
       "    <tr>\n",
       "      <th>42</th>\n",
       "      <td>1-Oct-20</td>\n",
       "      <td>Afternoon</td>\n",
       "      <td>VIC</td>\n",
       "      <td>Women</td>\n",
       "      <td>26</td>\n",
       "      <td>65000</td>\n",
       "      <td>50001-100k</td>\n",
       "    </tr>\n",
       "    <tr>\n",
       "      <th>43</th>\n",
       "      <td>1-Oct-20</td>\n",
       "      <td>Afternoon</td>\n",
       "      <td>VIC</td>\n",
       "      <td>Seniors</td>\n",
       "      <td>32</td>\n",
       "      <td>80000</td>\n",
       "      <td>50001-100k</td>\n",
       "    </tr>\n",
       "    <tr>\n",
       "      <th>44</th>\n",
       "      <td>1-Oct-20</td>\n",
       "      <td>Evening</td>\n",
       "      <td>VIC</td>\n",
       "      <td>Kids</td>\n",
       "      <td>27</td>\n",
       "      <td>67500</td>\n",
       "      <td>50001-100k</td>\n",
       "    </tr>\n",
       "    <tr>\n",
       "      <th>45</th>\n",
       "      <td>1-Oct-20</td>\n",
       "      <td>Evening</td>\n",
       "      <td>VIC</td>\n",
       "      <td>Men</td>\n",
       "      <td>43</td>\n",
       "      <td>107500</td>\n",
       "      <td>100001-150k</td>\n",
       "    </tr>\n",
       "    <tr>\n",
       "      <th>46</th>\n",
       "      <td>1-Oct-20</td>\n",
       "      <td>Evening</td>\n",
       "      <td>VIC</td>\n",
       "      <td>Women</td>\n",
       "      <td>50</td>\n",
       "      <td>125000</td>\n",
       "      <td>100001-150k</td>\n",
       "    </tr>\n",
       "    <tr>\n",
       "      <th>47</th>\n",
       "      <td>1-Oct-20</td>\n",
       "      <td>Evening</td>\n",
       "      <td>VIC</td>\n",
       "      <td>Seniors</td>\n",
       "      <td>44</td>\n",
       "      <td>110000</td>\n",
       "      <td>100001-150k</td>\n",
       "    </tr>\n",
       "    <tr>\n",
       "      <th>48</th>\n",
       "      <td>1-Oct-20</td>\n",
       "      <td>Morning</td>\n",
       "      <td>QLD</td>\n",
       "      <td>Kids</td>\n",
       "      <td>20</td>\n",
       "      <td>50000</td>\n",
       "      <td>50001-100k</td>\n",
       "    </tr>\n",
       "    <tr>\n",
       "      <th>49</th>\n",
       "      <td>1-Oct-20</td>\n",
       "      <td>Morning</td>\n",
       "      <td>QLD</td>\n",
       "      <td>Men</td>\n",
       "      <td>18</td>\n",
       "      <td>45000</td>\n",
       "      <td>0-50k</td>\n",
       "    </tr>\n",
       "  </tbody>\n",
       "</table>\n",
       "</div>"
      ],
      "text/plain": [
       "        Date        Time State     Group  Unit   Sales  Sales_range\n",
       "0   1-Oct-20     Morning    WA      Kids     8   20000        0-50k\n",
       "1   1-Oct-20     Morning    WA       Men     8   20000        0-50k\n",
       "2   1-Oct-20     Morning    WA     Women     4   10000        0-50k\n",
       "3   1-Oct-20     Morning    WA   Seniors    15   37500        0-50k\n",
       "4   1-Oct-20   Afternoon    WA      Kids     3    7500        0-50k\n",
       "5   1-Oct-20   Afternoon    WA       Men    10   25000        0-50k\n",
       "6   1-Oct-20   Afternoon    WA     Women     3    7500        0-50k\n",
       "7   1-Oct-20   Afternoon    WA   Seniors    11   27500        0-50k\n",
       "8   1-Oct-20     Evening    WA      Kids    15   37500        0-50k\n",
       "9   1-Oct-20     Evening    WA       Men    15   37500        0-50k\n",
       "10  1-Oct-20     Evening    WA     Women     3    7500        0-50k\n",
       "11  1-Oct-20     Evening    WA   Seniors    10   25000        0-50k\n",
       "12  1-Oct-20     Morning    NT      Kids    13   32500        0-50k\n",
       "13  1-Oct-20     Morning    NT       Men     5   12500        0-50k\n",
       "14  1-Oct-20     Morning    NT     Women     4   10000        0-50k\n",
       "15  1-Oct-20     Morning    NT   Seniors    10   25000        0-50k\n",
       "16  1-Oct-20   Afternoon    NT      Kids    13   32500        0-50k\n",
       "17  1-Oct-20   Afternoon    NT       Men     4   10000        0-50k\n",
       "18  1-Oct-20   Afternoon    NT     Women     6   15000        0-50k\n",
       "19  1-Oct-20   Afternoon    NT   Seniors     5   12500        0-50k\n",
       "20  1-Oct-20     Evening    NT      Kids    13   32500        0-50k\n",
       "21  1-Oct-20     Evening    NT       Men     8   20000        0-50k\n",
       "22  1-Oct-20     Evening    NT     Women     9   22500        0-50k\n",
       "23  1-Oct-20     Evening    NT   Seniors    14   35000        0-50k\n",
       "24  1-Oct-20     Morning    SA      Kids    12   30000        0-50k\n",
       "25  1-Oct-20     Morning    SA       Men    12   30000        0-50k\n",
       "26  1-Oct-20     Morning    SA     Women    16   40000        0-50k\n",
       "27  1-Oct-20     Morning    SA   Seniors    28   70000   50001-100k\n",
       "28  1-Oct-20   Afternoon    SA      Kids    16   40000        0-50k\n",
       "29  1-Oct-20   Afternoon    SA       Men    28   70000   50001-100k\n",
       "30  1-Oct-20   Afternoon    SA     Women    21   52500   50001-100k\n",
       "31  1-Oct-20   Afternoon    SA   Seniors    29   72500   50001-100k\n",
       "32  1-Oct-20     Evening    SA      Kids    15   37500        0-50k\n",
       "33  1-Oct-20     Evening    SA       Men    22   55000   50001-100k\n",
       "34  1-Oct-20     Evening    SA     Women    32   80000   50001-100k\n",
       "35  1-Oct-20     Evening    SA   Seniors    21   52500   50001-100k\n",
       "36  1-Oct-20     Morning   VIC      Kids    49  122500  100001-150k\n",
       "37  1-Oct-20     Morning   VIC       Men    36   90000   50001-100k\n",
       "38  1-Oct-20     Morning   VIC     Women    34   85000   50001-100k\n",
       "39  1-Oct-20     Morning   VIC   Seniors    26   65000   50001-100k\n",
       "40  1-Oct-20   Afternoon   VIC      Kids    31   77500   50001-100k\n",
       "41  1-Oct-20   Afternoon   VIC       Men    26   65000   50001-100k\n",
       "42  1-Oct-20   Afternoon   VIC     Women    26   65000   50001-100k\n",
       "43  1-Oct-20   Afternoon   VIC   Seniors    32   80000   50001-100k\n",
       "44  1-Oct-20     Evening   VIC      Kids    27   67500   50001-100k\n",
       "45  1-Oct-20     Evening   VIC       Men    43  107500  100001-150k\n",
       "46  1-Oct-20     Evening   VIC     Women    50  125000  100001-150k\n",
       "47  1-Oct-20     Evening   VIC   Seniors    44  110000  100001-150k\n",
       "48  1-Oct-20     Morning   QLD      Kids    20   50000   50001-100k\n",
       "49  1-Oct-20     Morning   QLD       Men    18   45000        0-50k"
      ]
     },
     "execution_count": 49,
     "metadata": {},
     "output_type": "execute_result"
    }
   ],
   "source": [
    "Sales_data.head(50)"
   ]
  },
  {
   "cell_type": "markdown",
   "id": "1b1b12f7-0e00-415c-a746-d21701ecb17e",
   "metadata": {},
   "source": [
    "# Handling outlier"
   ]
  },
  {
   "cell_type": "code",
   "execution_count": null,
   "id": "f449fcbf-7514-40d3-aa76-ed27b0e3c605",
   "metadata": {},
   "outputs": [],
   "source": [
    "from scipy.stats.mstats import winsorize"
   ]
  },
  {
   "cell_type": "code",
   "execution_count": 50,
   "id": "f9830f70-3278-4777-a456-ec79bbe4679a",
   "metadata": {},
   "outputs": [
    {
     "data": {
      "text/html": [
       "<div>\n",
       "<style scoped>\n",
       "    .dataframe tbody tr th:only-of-type {\n",
       "        vertical-align: middle;\n",
       "    }\n",
       "\n",
       "    .dataframe tbody tr th {\n",
       "        vertical-align: top;\n",
       "    }\n",
       "\n",
       "    .dataframe thead th {\n",
       "        text-align: right;\n",
       "    }\n",
       "</style>\n",
       "<table border=\"1\" class=\"dataframe\">\n",
       "  <thead>\n",
       "    <tr style=\"text-align: right;\">\n",
       "      <th></th>\n",
       "      <th>Sales</th>\n",
       "      <th>winsorized_Sales</th>\n",
       "    </tr>\n",
       "  </thead>\n",
       "  <tbody>\n",
       "    <tr>\n",
       "      <th>0</th>\n",
       "      <td>20000</td>\n",
       "      <td>20000</td>\n",
       "    </tr>\n",
       "    <tr>\n",
       "      <th>1</th>\n",
       "      <td>20000</td>\n",
       "      <td>20000</td>\n",
       "    </tr>\n",
       "    <tr>\n",
       "      <th>2</th>\n",
       "      <td>10000</td>\n",
       "      <td>10000</td>\n",
       "    </tr>\n",
       "    <tr>\n",
       "      <th>3</th>\n",
       "      <td>37500</td>\n",
       "      <td>37500</td>\n",
       "    </tr>\n",
       "    <tr>\n",
       "      <th>4</th>\n",
       "      <td>7500</td>\n",
       "      <td>10000</td>\n",
       "    </tr>\n",
       "    <tr>\n",
       "      <th>...</th>\n",
       "      <td>...</td>\n",
       "      <td>...</td>\n",
       "    </tr>\n",
       "    <tr>\n",
       "      <th>7555</th>\n",
       "      <td>35000</td>\n",
       "      <td>35000</td>\n",
       "    </tr>\n",
       "    <tr>\n",
       "      <th>7556</th>\n",
       "      <td>37500</td>\n",
       "      <td>37500</td>\n",
       "    </tr>\n",
       "    <tr>\n",
       "      <th>7557</th>\n",
       "      <td>37500</td>\n",
       "      <td>37500</td>\n",
       "    </tr>\n",
       "    <tr>\n",
       "      <th>7558</th>\n",
       "      <td>27500</td>\n",
       "      <td>27500</td>\n",
       "    </tr>\n",
       "    <tr>\n",
       "      <th>7559</th>\n",
       "      <td>32500</td>\n",
       "      <td>32500</td>\n",
       "    </tr>\n",
       "  </tbody>\n",
       "</table>\n",
       "<p>7560 rows × 2 columns</p>\n",
       "</div>"
      ],
      "text/plain": [
       "      Sales  winsorized_Sales\n",
       "0     20000             20000\n",
       "1     20000             20000\n",
       "2     10000             10000\n",
       "3     37500             37500\n",
       "4      7500             10000\n",
       "...     ...               ...\n",
       "7555  35000             35000\n",
       "7556  37500             37500\n",
       "7557  37500             37500\n",
       "7558  27500             27500\n",
       "7559  32500             32500\n",
       "\n",
       "[7560 rows x 2 columns]"
      ]
     },
     "execution_count": 50,
     "metadata": {},
     "output_type": "execute_result"
    }
   ],
   "source": [
    "Sales_data['winsorized_Sales']  = winsorize(Sales_data['Sales'], limits = [0.05, 0.05])\n",
    "Sales_data[['Sales', 'winsorized_Sales']]"
   ]
  },
  {
   "cell_type": "code",
   "execution_count": null,
   "id": "d35d672e-1d88-42db-8f68-d300ac57c539",
   "metadata": {},
   "outputs": [],
   "source": [
    "# by winsorized method we convert value below 5% with 5% and value above 95% with 95%\n",
    "# in above we can see in 5th row the sales value was 7500 which replace with a new vaue that is 10000"
   ]
  },
  {
   "cell_type": "code",
   "execution_count": 51,
   "id": "494c85ff-71ed-4e4a-aa24-4875fe3e2eff",
   "metadata": {},
   "outputs": [
    {
     "data": {
      "text/html": [
       "<div>\n",
       "<style scoped>\n",
       "    .dataframe tbody tr th:only-of-type {\n",
       "        vertical-align: middle;\n",
       "    }\n",
       "\n",
       "    .dataframe tbody tr th {\n",
       "        vertical-align: top;\n",
       "    }\n",
       "\n",
       "    .dataframe thead th {\n",
       "        text-align: right;\n",
       "    }\n",
       "</style>\n",
       "<table border=\"1\" class=\"dataframe\">\n",
       "  <thead>\n",
       "    <tr style=\"text-align: right;\">\n",
       "      <th></th>\n",
       "      <th>Sales</th>\n",
       "      <th>winsorized_Sales</th>\n",
       "    </tr>\n",
       "  </thead>\n",
       "  <tbody>\n",
       "    <tr>\n",
       "      <th>count</th>\n",
       "      <td>7560.000000</td>\n",
       "      <td>7560.000000</td>\n",
       "    </tr>\n",
       "    <tr>\n",
       "      <th>mean</th>\n",
       "      <td>45013.558201</td>\n",
       "      <td>44187.830688</td>\n",
       "    </tr>\n",
       "    <tr>\n",
       "      <th>std</th>\n",
       "      <td>32253.506944</td>\n",
       "      <td>29486.753256</td>\n",
       "    </tr>\n",
       "    <tr>\n",
       "      <th>min</th>\n",
       "      <td>5000.000000</td>\n",
       "      <td>10000.000000</td>\n",
       "    </tr>\n",
       "    <tr>\n",
       "      <th>25%</th>\n",
       "      <td>20000.000000</td>\n",
       "      <td>20000.000000</td>\n",
       "    </tr>\n",
       "    <tr>\n",
       "      <th>50%</th>\n",
       "      <td>35000.000000</td>\n",
       "      <td>35000.000000</td>\n",
       "    </tr>\n",
       "    <tr>\n",
       "      <th>75%</th>\n",
       "      <td>65000.000000</td>\n",
       "      <td>65000.000000</td>\n",
       "    </tr>\n",
       "    <tr>\n",
       "      <th>max</th>\n",
       "      <td>162500.000000</td>\n",
       "      <td>107500.000000</td>\n",
       "    </tr>\n",
       "  </tbody>\n",
       "</table>\n",
       "</div>"
      ],
      "text/plain": [
       "               Sales  winsorized_Sales\n",
       "count    7560.000000       7560.000000\n",
       "mean    45013.558201      44187.830688\n",
       "std     32253.506944      29486.753256\n",
       "min      5000.000000      10000.000000\n",
       "25%     20000.000000      20000.000000\n",
       "50%     35000.000000      35000.000000\n",
       "75%     65000.000000      65000.000000\n",
       "max    162500.000000     107500.000000"
      ]
     },
     "execution_count": 51,
     "metadata": {},
     "output_type": "execute_result"
    }
   ],
   "source": [
    "Sales_data[['Sales', 'winsorized_Sales']].describe()"
   ]
  },
  {
   "cell_type": "code",
   "execution_count": null,
   "id": "f0ba7971-6f4c-4cbd-ac32-1c3730191e41",
   "metadata": {},
   "outputs": [],
   "source": [
    "# Here we can clearly check that min value changed upto 5% value ( 5000 replace with 10000)\n",
    "# max value replace with 95% value( 162500 replace with 107500)"
   ]
  },
  {
   "cell_type": "markdown",
   "id": "fd621cf0-4c30-4da9-b5e0-24899b490385",
   "metadata": {},
   "source": [
    "# Data Aggrgation"
   ]
  },
  {
   "cell_type": "code",
   "execution_count": null,
   "id": "d3cd2182-f0b6-404c-ba54-12e8bc9c15df",
   "metadata": {},
   "outputs": [],
   "source": [
    "# now if we want to find out the total sales for the different groups, total sales for kids, total sales for men, and so on \n",
    "# for that we will use data aggregation method"
   ]
  },
  {
   "cell_type": "code",
   "execution_count": 39,
   "id": "a651d819-2545-41d2-9d33-19f8482f14ee",
   "metadata": {},
   "outputs": [
    {
     "data": {
      "text/html": [
       "<div>\n",
       "<style scoped>\n",
       "    .dataframe tbody tr th:only-of-type {\n",
       "        vertical-align: middle;\n",
       "    }\n",
       "\n",
       "    .dataframe tbody tr th {\n",
       "        vertical-align: top;\n",
       "    }\n",
       "\n",
       "    .dataframe thead th {\n",
       "        text-align: right;\n",
       "    }\n",
       "</style>\n",
       "<table border=\"1\" class=\"dataframe\">\n",
       "  <thead>\n",
       "    <tr style=\"text-align: right;\">\n",
       "      <th></th>\n",
       "      <th>Sales</th>\n",
       "    </tr>\n",
       "    <tr>\n",
       "      <th>Group</th>\n",
       "      <th></th>\n",
       "    </tr>\n",
       "  </thead>\n",
       "  <tbody>\n",
       "    <tr>\n",
       "      <th>Kids</th>\n",
       "      <td>85072500</td>\n",
       "    </tr>\n",
       "    <tr>\n",
       "      <th>Men</th>\n",
       "      <td>85750000</td>\n",
       "    </tr>\n",
       "    <tr>\n",
       "      <th>Seniors</th>\n",
       "      <td>84037500</td>\n",
       "    </tr>\n",
       "    <tr>\n",
       "      <th>Women</th>\n",
       "      <td>85442500</td>\n",
       "    </tr>\n",
       "  </tbody>\n",
       "</table>\n",
       "</div>"
      ],
      "text/plain": [
       "             Sales\n",
       "Group             \n",
       " Kids     85072500\n",
       " Men      85750000\n",
       " Seniors  84037500\n",
       " Women    85442500"
      ]
     },
     "execution_count": 39,
     "metadata": {},
     "output_type": "execute_result"
    }
   ],
   "source": [
    "Sales_data[['Group', 'Sales']].groupby('Group').sum()"
   ]
  },
  {
   "cell_type": "markdown",
   "id": "fd62649c-6599-47c8-b458-cca8eae53a02",
   "metadata": {},
   "source": [
    "# Note - Mens have the highest total for sales here\n",
    "# Note - Group Seniors has comparitively lowest sale"
   ]
  },
  {
   "cell_type": "code",
   "execution_count": 38,
   "id": "bce8cad5-480d-4e12-8e3d-23cd8df50f8b",
   "metadata": {},
   "outputs": [
    {
     "data": {
      "text/html": [
       "<div>\n",
       "<style scoped>\n",
       "    .dataframe tbody tr th:only-of-type {\n",
       "        vertical-align: middle;\n",
       "    }\n",
       "\n",
       "    .dataframe tbody tr th {\n",
       "        vertical-align: top;\n",
       "    }\n",
       "\n",
       "    .dataframe thead th {\n",
       "        text-align: right;\n",
       "    }\n",
       "</style>\n",
       "<table border=\"1\" class=\"dataframe\">\n",
       "  <thead>\n",
       "    <tr style=\"text-align: right;\">\n",
       "      <th></th>\n",
       "      <th>Sales</th>\n",
       "    </tr>\n",
       "    <tr>\n",
       "      <th>Group</th>\n",
       "      <th></th>\n",
       "    </tr>\n",
       "  </thead>\n",
       "  <tbody>\n",
       "    <tr>\n",
       "      <th>Kids</th>\n",
       "      <td>1890</td>\n",
       "    </tr>\n",
       "    <tr>\n",
       "      <th>Men</th>\n",
       "      <td>1890</td>\n",
       "    </tr>\n",
       "    <tr>\n",
       "      <th>Seniors</th>\n",
       "      <td>1890</td>\n",
       "    </tr>\n",
       "    <tr>\n",
       "      <th>Women</th>\n",
       "      <td>1890</td>\n",
       "    </tr>\n",
       "  </tbody>\n",
       "</table>\n",
       "</div>"
      ],
      "text/plain": [
       "          Sales\n",
       "Group          \n",
       " Kids      1890\n",
       " Men       1890\n",
       " Seniors   1890\n",
       " Women     1890"
      ]
     },
     "execution_count": 38,
     "metadata": {},
     "output_type": "execute_result"
    }
   ],
   "source": [
    "Sales_data[['Group', 'Sales']].groupby('Group').count()"
   ]
  },
  {
   "cell_type": "markdown",
   "id": "75ab85e2-f84d-441f-b7fa-6465f8c0d90b",
   "metadata": {},
   "source": [
    "# Note - Number of sales are equal for each particular group"
   ]
  },
  {
   "cell_type": "markdown",
   "id": "b261fd4e-92c0-47bd-93e3-5b57761d3f57",
   "metadata": {},
   "source": [
    "# Step -2 Data Analysis"
   ]
  },
  {
   "cell_type": "markdown",
   "id": "d9aaa581-ee2f-413b-9f81-c7b92ab8c9e6",
   "metadata": {},
   "source": [
    "# Statistical Analysis for Unit and Sales Data"
   ]
  },
  {
   "cell_type": "code",
   "execution_count": null,
   "id": "0df3e9df-da41-4a37-b1cd-f263c3c000f2",
   "metadata": {},
   "outputs": [],
   "source": [
    "# First we calculate the mean value of Unit data"
   ]
  },
  {
   "cell_type": "code",
   "execution_count": 57,
   "id": "e6c7d934-f454-41d1-b23f-9950339a4a8d",
   "metadata": {},
   "outputs": [
    {
     "data": {
      "text/plain": [
       "18.00542328042328"
      ]
     },
     "execution_count": 57,
     "metadata": {},
     "output_type": "execute_result"
    }
   ],
   "source": [
    "np.mean(Sales_data['Unit'])"
   ]
  },
  {
   "cell_type": "code",
   "execution_count": null,
   "id": "aaa5f515-adcb-42f2-ad47-f5abea923a77",
   "metadata": {},
   "outputs": [],
   "source": [
    "# Now the mean value of Sales data"
   ]
  },
  {
   "cell_type": "code",
   "execution_count": 59,
   "id": "5910eec3-2ce6-4272-9096-ca018abc9f75",
   "metadata": {},
   "outputs": [
    {
     "data": {
      "text/plain": [
       "45013.5582010582"
      ]
     },
     "execution_count": 59,
     "metadata": {},
     "output_type": "execute_result"
    }
   ],
   "source": [
    "np.mean(Sales_data['Sales'])"
   ]
  },
  {
   "cell_type": "code",
   "execution_count": 60,
   "id": "5e1f5c9f-1025-4c78-ab7c-478fb19a67be",
   "metadata": {},
   "outputs": [],
   "source": [
    "# Median value of unit data"
   ]
  },
  {
   "cell_type": "code",
   "execution_count": 61,
   "id": "1c261de1-7580-4f3c-8969-378542869118",
   "metadata": {},
   "outputs": [
    {
     "data": {
      "text/plain": [
       "14.0"
      ]
     },
     "execution_count": 61,
     "metadata": {},
     "output_type": "execute_result"
    }
   ],
   "source": [
    "np.median(Sales_data['Unit'])"
   ]
  },
  {
   "cell_type": "code",
   "execution_count": 62,
   "id": "2d18237b-372a-48c8-81c2-71fb782f876f",
   "metadata": {},
   "outputs": [],
   "source": [
    "# Median value of sales data"
   ]
  },
  {
   "cell_type": "code",
   "execution_count": 63,
   "id": "715bd87b-9c30-4adb-9b5b-d187a5fbe975",
   "metadata": {},
   "outputs": [
    {
     "data": {
      "text/plain": [
       "35000.0"
      ]
     },
     "execution_count": 63,
     "metadata": {},
     "output_type": "execute_result"
    }
   ],
   "source": [
    "np.median(Sales_data['Sales'])"
   ]
  },
  {
   "cell_type": "code",
   "execution_count": 64,
   "id": "cb1d5e96-fc6f-4392-8c81-c97a6a136442",
   "metadata": {},
   "outputs": [],
   "source": [
    "# STD for the unit data"
   ]
  },
  {
   "cell_type": "code",
   "execution_count": 65,
   "id": "315d79f5-917a-4841-8413-f77021c52d47",
   "metadata": {},
   "outputs": [
    {
     "data": {
      "text/plain": [
       "12.900549481988609"
      ]
     },
     "execution_count": 65,
     "metadata": {},
     "output_type": "execute_result"
    }
   ],
   "source": [
    "np.std(Sales_data['Unit'])"
   ]
  },
  {
   "cell_type": "code",
   "execution_count": null,
   "id": "7cfa44c3-b2df-4fb2-b392-2378a9708ca1",
   "metadata": {},
   "outputs": [],
   "source": [
    "# STD for the sales data"
   ]
  },
  {
   "cell_type": "code",
   "execution_count": 66,
   "id": "f059e12a-f5ec-45a4-8c3f-51e41c1a908d",
   "metadata": {},
   "outputs": [
    {
     "data": {
      "text/plain": [
       "32251.373704971687"
      ]
     },
     "execution_count": 66,
     "metadata": {},
     "output_type": "execute_result"
    }
   ],
   "source": [
    "np.std(Sales_data['Sales'])"
   ]
  },
  {
   "cell_type": "code",
   "execution_count": 77,
   "id": "89d15baf-e2e0-4a81-b363-58f22c6c0bfa",
   "metadata": {},
   "outputs": [
    {
     "name": "stdout",
     "output_type": "stream",
     "text": [
      "<class 'pandas.core.frame.DataFrame'>\n",
      "RangeIndex: 7560 entries, 0 to 7559\n",
      "Data columns (total 8 columns):\n",
      " #   Column            Non-Null Count  Dtype   \n",
      "---  ------            --------------  -----   \n",
      " 0   Date              7560 non-null   object  \n",
      " 1   Time              7560 non-null   object  \n",
      " 2   State             7560 non-null   object  \n",
      " 3   Group             7560 non-null   object  \n",
      " 4   Unit              7560 non-null   int64   \n",
      " 5   Sales             7560 non-null   int64   \n",
      " 6   Sales_range       7560 non-null   category\n",
      " 7   winsorized_Sales  7560 non-null   int64   \n",
      "dtypes: category(1), int64(3), object(4)\n",
      "memory usage: 421.1+ KB\n"
     ]
    }
   ],
   "source": [
    "Sales_data.info()"
   ]
  },
  {
   "cell_type": "code",
   "execution_count": 93,
   "id": "3a4a9b9d-aa5e-464f-92c4-fb85d7d98844",
   "metadata": {},
   "outputs": [],
   "source": [
    "dummies = pd.get_dummies(Sales_data)"
   ]
  },
  {
   "cell_type": "code",
   "execution_count": 94,
   "id": "ce3589a9-69ce-4919-be7d-8cbf0aef4357",
   "metadata": {},
   "outputs": [
    {
     "name": "stdout",
     "output_type": "stream",
     "text": [
      "<class 'pandas.core.frame.DataFrame'>\n",
      "RangeIndex: 7560 entries, 0 to 7559\n",
      "Columns: 111 entries, Unit to Sales_range_150k+\n",
      "dtypes: bool(108), int64(3)\n",
      "memory usage: 974.7 KB\n"
     ]
    }
   ],
   "source": [
    "dummies.info()"
   ]
  },
  {
   "cell_type": "code",
   "execution_count": 97,
   "id": "e2f5c5ef-cfc7-4b46-8b94-9a5085536692",
   "metadata": {
    "scrolled": true
   },
   "outputs": [
    {
     "data": {
      "text/html": [
       "<div>\n",
       "<style scoped>\n",
       "    .dataframe tbody tr th:only-of-type {\n",
       "        vertical-align: middle;\n",
       "    }\n",
       "\n",
       "    .dataframe tbody tr th {\n",
       "        vertical-align: top;\n",
       "    }\n",
       "\n",
       "    .dataframe thead th {\n",
       "        text-align: right;\n",
       "    }\n",
       "</style>\n",
       "<table border=\"1\" class=\"dataframe\">\n",
       "  <thead>\n",
       "    <tr style=\"text-align: right;\">\n",
       "      <th></th>\n",
       "      <th>Unit</th>\n",
       "      <th>Sales</th>\n",
       "      <th>winsorized_Sales</th>\n",
       "      <th>Date_1-Dec-20</th>\n",
       "      <th>Date_1-Nov-20</th>\n",
       "      <th>Date_1-Oct-20</th>\n",
       "      <th>Date_10-Dec-20</th>\n",
       "      <th>Date_10-Nov-20</th>\n",
       "      <th>Date_10-Oct-20</th>\n",
       "      <th>Date_11-Dec-20</th>\n",
       "      <th>...</th>\n",
       "      <th>State_ VIC</th>\n",
       "      <th>State_ WA</th>\n",
       "      <th>Group_ Kids</th>\n",
       "      <th>Group_ Men</th>\n",
       "      <th>Group_ Seniors</th>\n",
       "      <th>Group_ Women</th>\n",
       "      <th>Sales_range_0-50k</th>\n",
       "      <th>Sales_range_50001-100k</th>\n",
       "      <th>Sales_range_100001-150k</th>\n",
       "      <th>Sales_range_150k+</th>\n",
       "    </tr>\n",
       "  </thead>\n",
       "  <tbody>\n",
       "    <tr>\n",
       "      <th>0</th>\n",
       "      <td>8</td>\n",
       "      <td>20000</td>\n",
       "      <td>20000</td>\n",
       "      <td>False</td>\n",
       "      <td>False</td>\n",
       "      <td>True</td>\n",
       "      <td>False</td>\n",
       "      <td>False</td>\n",
       "      <td>False</td>\n",
       "      <td>False</td>\n",
       "      <td>...</td>\n",
       "      <td>False</td>\n",
       "      <td>True</td>\n",
       "      <td>True</td>\n",
       "      <td>False</td>\n",
       "      <td>False</td>\n",
       "      <td>False</td>\n",
       "      <td>True</td>\n",
       "      <td>False</td>\n",
       "      <td>False</td>\n",
       "      <td>False</td>\n",
       "    </tr>\n",
       "    <tr>\n",
       "      <th>1</th>\n",
       "      <td>8</td>\n",
       "      <td>20000</td>\n",
       "      <td>20000</td>\n",
       "      <td>False</td>\n",
       "      <td>False</td>\n",
       "      <td>True</td>\n",
       "      <td>False</td>\n",
       "      <td>False</td>\n",
       "      <td>False</td>\n",
       "      <td>False</td>\n",
       "      <td>...</td>\n",
       "      <td>False</td>\n",
       "      <td>True</td>\n",
       "      <td>False</td>\n",
       "      <td>True</td>\n",
       "      <td>False</td>\n",
       "      <td>False</td>\n",
       "      <td>True</td>\n",
       "      <td>False</td>\n",
       "      <td>False</td>\n",
       "      <td>False</td>\n",
       "    </tr>\n",
       "    <tr>\n",
       "      <th>2</th>\n",
       "      <td>4</td>\n",
       "      <td>10000</td>\n",
       "      <td>10000</td>\n",
       "      <td>False</td>\n",
       "      <td>False</td>\n",
       "      <td>True</td>\n",
       "      <td>False</td>\n",
       "      <td>False</td>\n",
       "      <td>False</td>\n",
       "      <td>False</td>\n",
       "      <td>...</td>\n",
       "      <td>False</td>\n",
       "      <td>True</td>\n",
       "      <td>False</td>\n",
       "      <td>False</td>\n",
       "      <td>False</td>\n",
       "      <td>True</td>\n",
       "      <td>True</td>\n",
       "      <td>False</td>\n",
       "      <td>False</td>\n",
       "      <td>False</td>\n",
       "    </tr>\n",
       "    <tr>\n",
       "      <th>3</th>\n",
       "      <td>15</td>\n",
       "      <td>37500</td>\n",
       "      <td>37500</td>\n",
       "      <td>False</td>\n",
       "      <td>False</td>\n",
       "      <td>True</td>\n",
       "      <td>False</td>\n",
       "      <td>False</td>\n",
       "      <td>False</td>\n",
       "      <td>False</td>\n",
       "      <td>...</td>\n",
       "      <td>False</td>\n",
       "      <td>True</td>\n",
       "      <td>False</td>\n",
       "      <td>False</td>\n",
       "      <td>True</td>\n",
       "      <td>False</td>\n",
       "      <td>True</td>\n",
       "      <td>False</td>\n",
       "      <td>False</td>\n",
       "      <td>False</td>\n",
       "    </tr>\n",
       "    <tr>\n",
       "      <th>4</th>\n",
       "      <td>3</td>\n",
       "      <td>7500</td>\n",
       "      <td>10000</td>\n",
       "      <td>False</td>\n",
       "      <td>False</td>\n",
       "      <td>True</td>\n",
       "      <td>False</td>\n",
       "      <td>False</td>\n",
       "      <td>False</td>\n",
       "      <td>False</td>\n",
       "      <td>...</td>\n",
       "      <td>False</td>\n",
       "      <td>True</td>\n",
       "      <td>True</td>\n",
       "      <td>False</td>\n",
       "      <td>False</td>\n",
       "      <td>False</td>\n",
       "      <td>True</td>\n",
       "      <td>False</td>\n",
       "      <td>False</td>\n",
       "      <td>False</td>\n",
       "    </tr>\n",
       "  </tbody>\n",
       "</table>\n",
       "<p>5 rows × 111 columns</p>\n",
       "</div>"
      ],
      "text/plain": [
       "   Unit  Sales  winsorized_Sales  Date_1-Dec-20  Date_1-Nov-20  Date_1-Oct-20  \\\n",
       "0     8  20000             20000          False          False           True   \n",
       "1     8  20000             20000          False          False           True   \n",
       "2     4  10000             10000          False          False           True   \n",
       "3    15  37500             37500          False          False           True   \n",
       "4     3   7500             10000          False          False           True   \n",
       "\n",
       "   Date_10-Dec-20  Date_10-Nov-20  Date_10-Oct-20  Date_11-Dec-20  ...  \\\n",
       "0           False           False           False           False  ...   \n",
       "1           False           False           False           False  ...   \n",
       "2           False           False           False           False  ...   \n",
       "3           False           False           False           False  ...   \n",
       "4           False           False           False           False  ...   \n",
       "\n",
       "   State_ VIC  State_ WA  Group_ Kids  Group_ Men  Group_ Seniors  \\\n",
       "0       False       True         True       False           False   \n",
       "1       False       True        False        True           False   \n",
       "2       False       True        False       False           False   \n",
       "3       False       True        False       False            True   \n",
       "4       False       True         True       False           False   \n",
       "\n",
       "   Group_ Women  Sales_range_0-50k  Sales_range_50001-100k  \\\n",
       "0         False               True                   False   \n",
       "1         False               True                   False   \n",
       "2          True               True                   False   \n",
       "3         False               True                   False   \n",
       "4         False               True                   False   \n",
       "\n",
       "   Sales_range_100001-150k  Sales_range_150k+  \n",
       "0                    False              False  \n",
       "1                    False              False  \n",
       "2                    False              False  \n",
       "3                    False              False  \n",
       "4                    False              False  \n",
       "\n",
       "[5 rows x 111 columns]"
      ]
     },
     "execution_count": 97,
     "metadata": {},
     "output_type": "execute_result"
    }
   ],
   "source": [
    "dummies.head()"
   ]
  },
  {
   "cell_type": "code",
   "execution_count": null,
   "id": "8470a20d-66e9-4989-8f35-5d9ff09726d0",
   "metadata": {},
   "outputs": [],
   "source": []
  },
  {
   "cell_type": "markdown",
   "id": "4721cebb-771e-4fea-94e6-d775939ff8ff",
   "metadata": {},
   "source": [
    "# Step 3 - Data Visualization"
   ]
  },
  {
   "cell_type": "code",
   "execution_count": 80,
   "id": "6039052e-e8cb-49e8-9e19-379d968c222e",
   "metadata": {},
   "outputs": [],
   "source": [
    "import matplotlib.pyplot as plt\n",
    "import seaborn as sns"
   ]
  },
  {
   "cell_type": "code",
   "execution_count": 74,
   "id": "2e823fdd-f8f4-4724-8b79-8445768329e2",
   "metadata": {},
   "outputs": [],
   "source": [
    "cat = Sales_data['Group']\n",
    "Sales = Sales_data['Sales']"
   ]
  },
  {
   "cell_type": "code",
   "execution_count": 98,
   "id": "0f104ca7-763b-46f2-82c6-546835ff3e61",
   "metadata": {},
   "outputs": [
    {
     "name": "stderr",
     "output_type": "stream",
     "text": [
      "C:\\Users\\hp\\Downloads\\anc\\Lib\\site-packages\\seaborn\\_oldcore.py:1119: FutureWarning: use_inf_as_na option is deprecated and will be removed in a future version. Convert inf values to NaN before operating instead.\n",
      "  with pd.option_context('mode.use_inf_as_na', True):\n"
     ]
    },
    {
     "data": {
      "image/png": "[encoded data removed]",
      "text/plain": [
       "<Figure size 640x480 with 1 Axes>"
      ]
     },
     "metadata": {},
     "output_type": "display_data"
    }
   ],
   "source": [
    "sns.kdeplot(Sales)\n",
    "plt.show()"
   ]
  },
  {
   "cell_type": "code",
   "execution_count": null,
   "id": "522d26c9-6416-4165-80b9-25e9c9b1e684",
   "metadata": {},
   "outputs": [],
   "source": []
  },
  {
   "cell_type": "code",
   "execution_count": 72,
   "id": "af26d316-0a44-4b6e-b74f-573183031829",
   "metadata": {},
   "outputs": [],
   "source": [
    "cat = Sales_data['Group']\n",
    "Sales = Sales_data['Sales']"
   ]
  },
  {
   "cell_type": "code",
   "execution_count": 73,
   "id": "8786c2dd-d3fb-4be3-a0bd-0a21908753c8",
   "metadata": {},
   "outputs": [
    {
     "data": {
      "text/plain": [
       "<BarContainer object of 7560 artists>"
      ]
     },
     "execution_count": 73,
     "metadata": {},
     "output_type": "execute_result"
    },
    {
     "data": {
      "image/png": "[encoded data removed]",
      "text/plain": [
       "<Figure size 640x480 with 1 Axes>"
      ]
     },
     "metadata": {},
     "output_type": "display_data"
    }
   ],
   "source": [
    "plt.bar(cat, Sales, color = 'red')"
   ]
  },
  {
   "cell_type": "code",
   "execution_count": 78,
   "id": "7741073a-0807-41e2-b85c-f84e40b8b30b",
   "metadata": {},
   "outputs": [],
   "source": [
    "State = Sales_data['State']\n",
    "Sales = Sales_data['Sales']"
   ]
  },
  {
   "cell_type": "code",
   "execution_count": 79,
   "id": "a7c0ea0e-cce2-41c9-b099-f92a009f0cb8",
   "metadata": {},
   "outputs": [
    {
     "data": {
      "text/plain": [
       "<BarContainer object of 7560 artists>"
      ]
     },
     "execution_count": 79,
     "metadata": {},
     "output_type": "execute_result"
    },
    {
     "data": {
      "image/png": "[encoded data removed]",
      "text/plain": [
       "<Figure size 640x480 with 1 Axes>"
      ]
     },
     "metadata": {},
     "output_type": "display_data"
    }
   ],
   "source": [
    "plt.bar(State, Sales, color = 'Green')"
   ]
  },
  {
   "cell_type": "markdown",
   "id": "99ff139a-49f3-4c9d-856b-2c594ced500b",
   "metadata": {},
   "source": [
    "# Note - State VIC has highest bumber of sales"
   ]
  },
  {
   "cell_type": "code",
   "execution_count": null,
   "id": "4a307573-40b7-4ad1-a964-613bebfad6ce",
   "metadata": {},
   "outputs": [],
   "source": []
  }
 ],
 "metadata": {
  "kernelspec": {
   "display_name": "Python 3 (ipykernel)",
   "language": "python",
   "name": "python3"
  },
  "language_info": {
   "codemirror_mode": {
    "name": "ipython",
    "version": 3
   },
   "file_extension": ".py",
   "mimetype": "text/x-python",
   "name": "python",
   "nbconvert_exporter": "python",
   "pygments_lexer": "ipython3",
   "version": "3.11.7"
  }
 },
 "nbformat": 4,
 "nbformat_minor": 5
}
